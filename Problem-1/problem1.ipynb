{
 "cells": [
  {
   "cell_type": "code",
   "execution_count": 2,
   "metadata": {},
   "outputs": [],
   "source": [
    "import pandas as pd\n",
    "import openpyxl\n",
    "from datetime import datetime\n",
    "\n",
    "# Read the dataset\n",
    "df = pd.read_excel('Final Lead Data.xlsx') "
   ]
  },
  {
   "cell_type": "code",
   "execution_count": 3,
   "metadata": {},
   "outputs": [
    {
     "data": {
      "text/html": [
       "<div>\n",
       "<style scoped>\n",
       "    .dataframe tbody tr th:only-of-type {\n",
       "        vertical-align: middle;\n",
       "    }\n",
       "\n",
       "    .dataframe tbody tr th {\n",
       "        vertical-align: top;\n",
       "    }\n",
       "\n",
       "    .dataframe thead th {\n",
       "        text-align: right;\n",
       "    }\n",
       "</style>\n",
       "<table border=\"1\" class=\"dataframe\">\n",
       "  <thead>\n",
       "    <tr style=\"text-align: right;\">\n",
       "      <th></th>\n",
       "      <th>ID</th>\n",
       "      <th>First Name</th>\n",
       "      <th>Email</th>\n",
       "      <th>Gender</th>\n",
       "      <th>City</th>\n",
       "      <th>Created</th>\n",
       "      <th>Position</th>\n",
       "      <th>New College Name</th>\n",
       "      <th>Colleges</th>\n",
       "      <th>Academic Year</th>\n",
       "      <th>Branch/ Specialisation</th>\n",
       "      <th>Other Branch</th>\n",
       "      <th>What is your current academic year?</th>\n",
       "      <th>Company Name/ College Name</th>\n",
       "      <th>Would you like to know more about us and our programs?</th>\n",
       "      <th>Are you interested in knowing more about our events?</th>\n",
       "      <th>Have you recommended Cloud Counselage to anyone?</th>\n",
       "      <th>How did you come to know about this event?</th>\n",
       "    </tr>\n",
       "  </thead>\n",
       "  <tbody>\n",
       "    <tr>\n",
       "      <th>0</th>\n",
       "      <td>68112</td>\n",
       "      <td>ANIKET</td>\n",
       "      <td>aniket@xyz.com</td>\n",
       "      <td>NaN</td>\n",
       "      <td>NaN</td>\n",
       "      <td>04/27/2022 01:41:38 pm</td>\n",
       "      <td>NaN</td>\n",
       "      <td>NaN</td>\n",
       "      <td>NaN</td>\n",
       "      <td>NaN</td>\n",
       "      <td>NaN</td>\n",
       "      <td>NaN</td>\n",
       "      <td>NaN</td>\n",
       "      <td>NaN</td>\n",
       "      <td>yes</td>\n",
       "      <td>yes</td>\n",
       "      <td>no</td>\n",
       "      <td>NaN</td>\n",
       "    </tr>\n",
       "    <tr>\n",
       "      <th>1</th>\n",
       "      <td>68110</td>\n",
       "      <td>Dhanshree</td>\n",
       "      <td>dhanshree@xyz.com</td>\n",
       "      <td>NaN</td>\n",
       "      <td>NaN</td>\n",
       "      <td>04/22/2022 04:08:38 pm</td>\n",
       "      <td>NaN</td>\n",
       "      <td>Lords Universal College</td>\n",
       "      <td>NaN</td>\n",
       "      <td>NaN</td>\n",
       "      <td>NaN</td>\n",
       "      <td>NaN</td>\n",
       "      <td>NaN</td>\n",
       "      <td>NaN</td>\n",
       "      <td>yes</td>\n",
       "      <td>yes</td>\n",
       "      <td>no</td>\n",
       "      <td>NaN</td>\n",
       "    </tr>\n",
       "    <tr>\n",
       "      <th>2</th>\n",
       "      <td>68108</td>\n",
       "      <td>Dhiraj</td>\n",
       "      <td>dhiraj@xyz.com</td>\n",
       "      <td>NaN</td>\n",
       "      <td>NaN</td>\n",
       "      <td>04/16/2022 10:31:59 pm</td>\n",
       "      <td>NaN</td>\n",
       "      <td>NaN</td>\n",
       "      <td>NaN</td>\n",
       "      <td>NaN</td>\n",
       "      <td>NaN</td>\n",
       "      <td>NaN</td>\n",
       "      <td>NaN</td>\n",
       "      <td>NaN</td>\n",
       "      <td>yes</td>\n",
       "      <td>yes</td>\n",
       "      <td>no</td>\n",
       "      <td>NaN</td>\n",
       "    </tr>\n",
       "    <tr>\n",
       "      <th>3</th>\n",
       "      <td>68106</td>\n",
       "      <td>Pooja</td>\n",
       "      <td>pooja@xyz.com</td>\n",
       "      <td>NaN</td>\n",
       "      <td>NaN</td>\n",
       "      <td>04/13/2022 10:05:15 pm</td>\n",
       "      <td>NaN</td>\n",
       "      <td>NaN</td>\n",
       "      <td>NaN</td>\n",
       "      <td>NaN</td>\n",
       "      <td>NaN</td>\n",
       "      <td>NaN</td>\n",
       "      <td>NaN</td>\n",
       "      <td>NaN</td>\n",
       "      <td>yes</td>\n",
       "      <td>yes</td>\n",
       "      <td>no</td>\n",
       "      <td>NaN</td>\n",
       "    </tr>\n",
       "    <tr>\n",
       "      <th>4</th>\n",
       "      <td>68090</td>\n",
       "      <td>Aayush</td>\n",
       "      <td>aayush@xyz.com</td>\n",
       "      <td>NaN</td>\n",
       "      <td>NaN</td>\n",
       "      <td>03/26/2022 07:02:48 pm</td>\n",
       "      <td>NaN</td>\n",
       "      <td>B.k Birla college</td>\n",
       "      <td>NaN</td>\n",
       "      <td>NaN</td>\n",
       "      <td>NaN</td>\n",
       "      <td>NaN</td>\n",
       "      <td>NaN</td>\n",
       "      <td>NaN</td>\n",
       "      <td>yes</td>\n",
       "      <td>yes</td>\n",
       "      <td>no</td>\n",
       "      <td>NaN</td>\n",
       "    </tr>\n",
       "  </tbody>\n",
       "</table>\n",
       "</div>"
      ],
      "text/plain": [
       "      ID First Name              Email Gender City                 Created  \\\n",
       "0  68112     ANIKET     aniket@xyz.com    NaN  NaN  04/27/2022 01:41:38 pm   \n",
       "1  68110  Dhanshree  dhanshree@xyz.com    NaN  NaN  04/22/2022 04:08:38 pm   \n",
       "2  68108     Dhiraj     dhiraj@xyz.com    NaN  NaN  04/16/2022 10:31:59 pm   \n",
       "3  68106      Pooja      pooja@xyz.com    NaN  NaN  04/13/2022 10:05:15 pm   \n",
       "4  68090     Aayush     aayush@xyz.com    NaN  NaN  03/26/2022 07:02:48 pm   \n",
       "\n",
       "  Position         New College Name Colleges  Academic Year  \\\n",
       "0      NaN                      NaN      NaN            NaN   \n",
       "1      NaN  Lords Universal College      NaN            NaN   \n",
       "2      NaN                      NaN      NaN            NaN   \n",
       "3      NaN                      NaN      NaN            NaN   \n",
       "4      NaN        B.k Birla college      NaN            NaN   \n",
       "\n",
       "  Branch/ Specialisation Other Branch What is your current academic year?  \\\n",
       "0                    NaN          NaN                                 NaN   \n",
       "1                    NaN          NaN                                 NaN   \n",
       "2                    NaN          NaN                                 NaN   \n",
       "3                    NaN          NaN                                 NaN   \n",
       "4                    NaN          NaN                                 NaN   \n",
       "\n",
       "  Company Name/ College Name  \\\n",
       "0                        NaN   \n",
       "1                        NaN   \n",
       "2                        NaN   \n",
       "3                        NaN   \n",
       "4                        NaN   \n",
       "\n",
       "  Would you like to know more about us and our programs?  \\\n",
       "0                                                yes       \n",
       "1                                                yes       \n",
       "2                                                yes       \n",
       "3                                                yes       \n",
       "4                                                yes       \n",
       "\n",
       "  Are you interested in knowing more about our events?  \\\n",
       "0                                                yes     \n",
       "1                                                yes     \n",
       "2                                                yes     \n",
       "3                                                yes     \n",
       "4                                                yes     \n",
       "\n",
       "  Have you recommended Cloud Counselage to anyone?  \\\n",
       "0                                               no   \n",
       "1                                               no   \n",
       "2                                               no   \n",
       "3                                               no   \n",
       "4                                               no   \n",
       "\n",
       "  How did you come to know about this event?  \n",
       "0                                        NaN  \n",
       "1                                        NaN  \n",
       "2                                        NaN  \n",
       "3                                        NaN  \n",
       "4                                        NaN  "
      ]
     },
     "execution_count": 3,
     "metadata": {},
     "output_type": "execute_result"
    }
   ],
   "source": [
    "df.head()"
   ]
  },
  {
   "cell_type": "code",
   "execution_count": 4,
   "metadata": {},
   "outputs": [
    {
     "name": "stdout",
     "output_type": "stream",
     "text": [
      "<class 'pandas.core.frame.DataFrame'>\n",
      "RangeIndex: 5303 entries, 0 to 5302\n",
      "Data columns (total 18 columns):\n",
      " #   Column                                                  Non-Null Count  Dtype  \n",
      "---  ------                                                  --------------  -----  \n",
      " 0   ID                                                      5303 non-null   int64  \n",
      " 1   First Name                                              5303 non-null   object \n",
      " 2   Email                                                   5303 non-null   object \n",
      " 3   Gender                                                  200 non-null    object \n",
      " 4   City                                                    55 non-null     object \n",
      " 5   Created                                                 5303 non-null   object \n",
      " 6   Position                                                6 non-null      object \n",
      " 7   New College Name                                        1818 non-null   object \n",
      " 8   Colleges                                                1681 non-null   object \n",
      " 9   Academic Year                                           2518 non-null   float64\n",
      " 10  Branch/ Specialisation                                  2520 non-null   object \n",
      " 11  Other Branch                                            644 non-null    object \n",
      " 12  What is your current academic year?                     131 non-null    object \n",
      " 13  Company Name/ College Name                              238 non-null    object \n",
      " 14  Would you like to know more about us and our programs?  5303 non-null   object \n",
      " 15  Are you interested in knowing more about our events?    5303 non-null   object \n",
      " 16  Have you recommended Cloud Counselage to anyone?        5303 non-null   object \n",
      " 17  How did you come to know about this event?              155 non-null    object \n",
      "dtypes: float64(1), int64(1), object(16)\n",
      "memory usage: 745.9+ KB\n"
     ]
    }
   ],
   "source": [
    "df.info()"
   ]
  },
  {
   "cell_type": "code",
   "execution_count": 9,
   "metadata": {},
   "outputs": [
    {
     "data": {
      "text/plain": [
       "3.0    1221\n",
       "2.0     672\n",
       "4.0     457\n",
       "1.0     168\n",
       "Name: Academic Year, dtype: int64"
      ]
     },
     "execution_count": 9,
     "metadata": {},
     "output_type": "execute_result"
    }
   ],
   "source": [
    "df['Academic Year'].value_counts()"
   ]
  },
  {
   "cell_type": "code",
   "execution_count": 6,
   "metadata": {},
   "outputs": [
    {
     "data": {
      "text/plain": [
       "3rd Year      59\n",
       "Final Year    41\n",
       "2nd Year      20\n",
       "1st Year      11\n",
       "Name: What is your current academic year?, dtype: int64"
      ]
     },
     "execution_count": 6,
     "metadata": {},
     "output_type": "execute_result"
    }
   ],
   "source": [
    "df['What is your current academic year?'].value_counts()"
   ]
  },
  {
   "cell_type": "code",
   "execution_count": 7,
   "metadata": {},
   "outputs": [],
   "source": [
    "# Map categorical values in \"What is your current academic year?\" column to numerical values\n",
    "academic_year_mapping = {\n",
    "    '1st Year': 1,\n",
    "    '2nd Year': 2,\n",
    "    '3rd Year': 3,\n",
    "    'Final Year': 4\n",
    "}"
   ]
  },
  {
   "cell_type": "code",
   "execution_count": 8,
   "metadata": {},
   "outputs": [],
   "source": [
    "df['What is your current academic year?'] = df['What is your current academic year?'].map(academic_year_mapping)"
   ]
  },
  {
   "cell_type": "code",
   "execution_count": 9,
   "metadata": {},
   "outputs": [
    {
     "data": {
      "text/plain": [
       "3.0    59\n",
       "4.0    41\n",
       "2.0    20\n",
       "1.0    11\n",
       "Name: What is your current academic year?, dtype: int64"
      ]
     },
     "execution_count": 9,
     "metadata": {},
     "output_type": "execute_result"
    }
   ],
   "source": [
    "df['What is your current academic year?'].value_counts()"
   ]
  },
  {
   "cell_type": "code",
   "execution_count": 23,
   "metadata": {},
   "outputs": [],
   "source": [
    "# Convert the academic years to integers\n",
    "df['Academic Year'] = df['Academic Year'].astype(int)"
   ]
  },
  {
   "cell_type": "code",
   "execution_count": 24,
   "metadata": {},
   "outputs": [],
   "source": [
    "# Fill missing values in \"Academic Year\" with corresponding values from \"What is your current academic year?\"\n",
    "missing_academic_year_mask = df['Academic Year'].isnull()\n",
    "not_null_current_academic_year_mask = df['What is your current academic year?'].notnull()\n",
    "df.loc[missing_academic_year_mask & not_null_current_academic_year_mask, 'Academic Year'] = df['What is your current academic year?']"
   ]
  },
  {
   "cell_type": "code",
   "execution_count": 25,
   "metadata": {},
   "outputs": [
    {
     "data": {
      "text/plain": [
       "3    3992\n",
       "2     674\n",
       "4     465\n",
       "1     172\n",
       "Name: Academic Year, dtype: int64"
      ]
     },
     "execution_count": 25,
     "metadata": {},
     "output_type": "execute_result"
    }
   ],
   "source": [
    "df['Academic Year'].value_counts()"
   ]
  },
  {
   "cell_type": "code",
   "execution_count": 26,
   "metadata": {},
   "outputs": [
    {
     "data": {
      "text/plain": [
       "0"
      ]
     },
     "execution_count": 26,
     "metadata": {},
     "output_type": "execute_result"
    }
   ],
   "source": [
    "df['Academic Year'].isna().sum()"
   ]
  },
  {
   "cell_type": "code",
   "execution_count": 27,
   "metadata": {},
   "outputs": [],
   "source": [
    "# Handle remaining missing values in \"Academic Year\" column\n",
    "median_academic_year = df['Academic Year'].median()\n",
    "df['Academic Year'].fillna(median_academic_year, inplace=True)"
   ]
  },
  {
   "cell_type": "code",
   "execution_count": 28,
   "metadata": {},
   "outputs": [],
   "source": [
    "# Assuming standard course duration is 4 years\n",
    "course_duration_years = 4"
   ]
  },
  {
   "cell_type": "code",
   "execution_count": 29,
   "metadata": {},
   "outputs": [
    {
     "data": {
      "text/plain": [
       "0"
      ]
     },
     "execution_count": 29,
     "metadata": {},
     "output_type": "execute_result"
    }
   ],
   "source": [
    "df['Academic Year'].isna().sum()"
   ]
  },
  {
   "cell_type": "code",
   "execution_count": 30,
   "metadata": {},
   "outputs": [],
   "source": [
    "# Calculate the year of graduation based on the academic year and course duration\n",
    "current_year = datetime.now().year\n",
    "df['Year of Graduation'] = current_year + course_duration_years - df['Academic Year']"
   ]
  },
  {
   "cell_type": "code",
   "execution_count": 31,
   "metadata": {},
   "outputs": [
    {
     "data": {
      "text/plain": [
       "0       2024\n",
       "1       2024\n",
       "2       2024\n",
       "3       2024\n",
       "4       2024\n",
       "        ... \n",
       "5298    2024\n",
       "5299    2024\n",
       "5300    2024\n",
       "5301    2024\n",
       "5302    2024\n",
       "Name: Year of Graduation, Length: 5303, dtype: int32"
      ]
     },
     "execution_count": 31,
     "metadata": {},
     "output_type": "execute_result"
    }
   ],
   "source": [
    "df['Year of Graduation']"
   ]
  },
  {
   "cell_type": "code",
   "execution_count": 34,
   "metadata": {},
   "outputs": [
    {
     "data": {
      "text/plain": [
       "2024    3992\n",
       "2025     674\n",
       "2023     465\n",
       "2026     172\n",
       "Name: Year of Graduation, dtype: int64"
      ]
     },
     "execution_count": 34,
     "metadata": {},
     "output_type": "execute_result"
    }
   ],
   "source": [
    "df['Year of Graduation'].value_counts()"
   ]
  },
  {
   "cell_type": "code",
   "execution_count": 35,
   "metadata": {},
   "outputs": [],
   "source": [
    "# Save the updated DataFrame to a new Excel file\n",
    "output_file_path = 'Updated Lead Data.xlsx'\n",
    "df.to_excel(output_file_path, index=False)"
   ]
  },
  {
   "cell_type": "code",
   "execution_count": 36,
   "metadata": {},
   "outputs": [
    {
     "name": "stdout",
     "output_type": "stream",
     "text": [
      "Data saved to Updated Lead Data.xlsx\n"
     ]
    }
   ],
   "source": [
    "print(f\"Data saved to {output_file_path}\")"
   ]
  },
  {
   "cell_type": "code",
   "execution_count": 42,
   "metadata": {},
   "outputs": [],
   "source": [
    "import matplotlib.pyplot as plt"
   ]
  },
  {
   "cell_type": "code",
   "execution_count": 44,
   "metadata": {},
   "outputs": [],
   "source": [
    "year_of_graduation_counts = df['Year of Graduation'].value_counts()"
   ]
  },
  {
   "cell_type": "code",
   "execution_count": 45,
   "metadata": {},
   "outputs": [
    {
     "data": {
      "text/plain": [
       "([<matplotlib.patches.Wedge at 0x177f6d566b0>,\n",
       "  <matplotlib.patches.Wedge at 0x177f6d56dd0>,\n",
       "  <matplotlib.patches.Wedge at 0x177f6d573d0>,\n",
       "  <matplotlib.patches.Wedge at 0x177f6d57af0>],\n",
       " [Text(0.10544296220517319, -1.0949346015728056, '2024'),\n",
       "  Text(0.3054345677540066, 1.0567448721526513, '2025'),\n",
       "  Text(-0.4216625184385474, 1.015972795179114, '2023'),\n",
       "  Text(-0.7663556777328516, 0.789112777242025, '2026')],\n",
       " [Text(0.05751434302100354, -0.5972370554033485, '75.3%'),\n",
       "  Text(0.16660067332036724, 0.576406293901446, '12.7%'),\n",
       "  Text(-0.22999773733011675, 0.5541669791886076, '8.8%'),\n",
       "  Text(-0.4180121878542827, 0.4304251512229227, '3.2%')])"
      ]
     },
     "execution_count": 45,
     "metadata": {},
     "output_type": "execute_result"
    },
    {
     "data": {
      "image/png": "[encoded data removed]",
      "text/plain": [
       "<Figure size 800x800 with 1 Axes>"
      ]
     },
     "metadata": {},
     "output_type": "display_data"
    }
   ],
   "source": [
    "plt.figure(figsize=(8, 8))\n",
    "plt.pie(year_of_graduation_counts, labels=year_of_graduation_counts.index, autopct='%1.1f%%', startangle=140)"
   ]
  }
 ],
 "metadata": {
  "kernelspec": {
   "display_name": "Python 3",
   "language": "python",
   "name": "python3"
  },
  "language_info": {
   "codemirror_mode": {
    "name": "ipython",
    "version": 3
   },
   "file_extension": ".py",
   "mimetype": "text/x-python",
   "name": "python",
   "nbconvert_exporter": "python",
   "pygments_lexer": "ipython3",
   "version": "3.10.0"
  },
  "orig_nbformat": 4
 },
 "nbformat": 4,
 "nbformat_minor": 2
}
